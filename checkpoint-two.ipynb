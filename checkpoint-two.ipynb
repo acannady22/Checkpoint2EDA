{
 "cells": [
  {
   "cell_type": "markdown",
   "metadata": {
    "azdata_cell_guid": "151601c9-ca7a-412e-af80-c62a87e0837e"
   },
   "source": [
    "# Checkpoint Two: Exploratory Data Analysis\n",
    "\n",
    "Now that your chosen dataset is approved, it is time to start working on your analysis. Use this notebook to perform your EDA and make notes where directed to as you work.\n",
    "\n",
    "## Getting Started\n",
    "\n",
    "Since we have not provided your dataset for you, you will need to load the necessary files in this repository. Make sure to include a link back to the original dataset here as well.\n",
    "\n",
    "My dataset:\n",
    "\n",
    "Your first task in EDA is to import necessary libraries and create a dataframe(s). Make note in the form of code comments of what your thought process is as you work on this setup task."
   ]
  },
  {
   "cell_type": "code",
   "execution_count": 1,
   "metadata": {
    "azdata_cell_guid": "7b503e37-6df5-4433-acfb-678b1346db14"
   },
   "outputs": [],
   "source": [
    "import sqlite3\n",
    "import pandas as pd\n",
    "import matplotlib.pyplot as plt\n",
    "import seaborn as sns\n",
    "import numpy as np\n",
    "\n",
    "df = pd.read_excel('/Users/allisoncannady/Documents/WHO_Data_Word.xlsx')"
   ]
  },
  {
   "cell_type": "markdown",
   "metadata": {
    "azdata_cell_guid": "129ce836-524b-4ea8-b394-a959f9308d6a"
   },
   "source": [
    "## Get to Know the Numbers\n",
    "\n",
    "Now that you have everything setup, put any code that you use to get to know the dataframe and its rows and columns better in the cell below. You can use whatever techniques you like, except for visualizations. You will put those in a separate section.\n",
    "\n",
    "When working on your code, make sure to leave comments so that your mentors can understand your thought process."
   ]
  },
  {
   "cell_type": "code",
   "execution_count": 2,
   "metadata": {
    "azdata_cell_guid": "0ca2d318-f6e8-43ef-a33e-5304d24d928d",
    "tags": []
   },
   "outputs": [
    {
     "data": {
      "text/html": [
       "<div>\n",
       "<style scoped>\n",
       "    .dataframe tbody tr th:only-of-type {\n",
       "        vertical-align: middle;\n",
       "    }\n",
       "\n",
       "    .dataframe tbody tr th {\n",
       "        vertical-align: top;\n",
       "    }\n",
       "\n",
       "    .dataframe thead th {\n",
       "        text-align: right;\n",
       "    }\n",
       "</style>\n",
       "<table border=\"1\" class=\"dataframe\">\n",
       "  <thead>\n",
       "    <tr style=\"text-align: right;\">\n",
       "      <th></th>\n",
       "      <th>Country</th>\n",
       "      <th>Total Population Male</th>\n",
       "      <th>Total Population Female</th>\n",
       "      <th>Total Population Both</th>\n",
       "      <th>Life Expectancy Male</th>\n",
       "      <th>Life Expectancy Female</th>\n",
       "      <th>Life Expectancy Both</th>\n",
       "      <th>Healthy Life Expectancy Male</th>\n",
       "      <th>Healthy Life Expectancy Female</th>\n",
       "      <th>Healthy Life Expectancy Both</th>\n",
       "      <th>...</th>\n",
       "      <th>Hand Washing</th>\n",
       "      <th>Water Treated</th>\n",
       "      <th>Dev Expend Mil</th>\n",
       "      <th>Clean Fuel Tech</th>\n",
       "      <th>Pollution Urban</th>\n",
       "      <th>Homicide Mortality</th>\n",
       "      <th>Polio Cases</th>\n",
       "      <th>Hypertension 30-79</th>\n",
       "      <th>Obesity 5-19</th>\n",
       "      <th>Obesity Adults</th>\n",
       "    </tr>\n",
       "  </thead>\n",
       "  <tbody>\n",
       "    <tr>\n",
       "      <th>0</th>\n",
       "      <td>Afghanistan</td>\n",
       "      <td>19976</td>\n",
       "      <td>18952</td>\n",
       "      <td>38928.0</td>\n",
       "      <td>63.3</td>\n",
       "      <td>63.2</td>\n",
       "      <td>63.2</td>\n",
       "      <td>54.7</td>\n",
       "      <td>53.2</td>\n",
       "      <td>53.9</td>\n",
       "      <td>...</td>\n",
       "      <td>38</td>\n",
       "      <td>-</td>\n",
       "      <td>140.29</td>\n",
       "      <td>33</td>\n",
       "      <td>63.6</td>\n",
       "      <td>8.5</td>\n",
       "      <td>1</td>\n",
       "      <td>40.2</td>\n",
       "      <td>3.1</td>\n",
       "      <td>5.5</td>\n",
       "    </tr>\n",
       "    <tr>\n",
       "      <th>1</th>\n",
       "      <td>Albania</td>\n",
       "      <td>1465</td>\n",
       "      <td>1413</td>\n",
       "      <td>2878.0</td>\n",
       "      <td>76.3</td>\n",
       "      <td>79.9</td>\n",
       "      <td>78</td>\n",
       "      <td>68</td>\n",
       "      <td>70.3</td>\n",
       "      <td>69.1</td>\n",
       "      <td>...</td>\n",
       "      <td>-</td>\n",
       "      <td>13</td>\n",
       "      <td>48.53</td>\n",
       "      <td>81</td>\n",
       "      <td>19.3</td>\n",
       "      <td>3.6</td>\n",
       "      <td>0</td>\n",
       "      <td>41.8</td>\n",
       "      <td>7.6</td>\n",
       "      <td>21.7</td>\n",
       "    </tr>\n",
       "    <tr>\n",
       "      <th>2</th>\n",
       "      <td>Algeria</td>\n",
       "      <td>22154</td>\n",
       "      <td>21697</td>\n",
       "      <td>43851.0</td>\n",
       "      <td>76.2</td>\n",
       "      <td>78.1</td>\n",
       "      <td>77.1</td>\n",
       "      <td>66.7</td>\n",
       "      <td>66.1</td>\n",
       "      <td>66.4</td>\n",
       "      <td>...</td>\n",
       "      <td>85</td>\n",
       "      <td>76</td>\n",
       "      <td>3.01</td>\n",
       "      <td>100</td>\n",
       "      <td>34.1</td>\n",
       "      <td>1.7</td>\n",
       "      <td>0</td>\n",
       "      <td>36.2</td>\n",
       "      <td>13.5</td>\n",
       "      <td>27.4</td>\n",
       "    </tr>\n",
       "    <tr>\n",
       "      <th>3</th>\n",
       "      <td>Andorra</td>\n",
       "      <td>-</td>\n",
       "      <td>-</td>\n",
       "      <td>77.0</td>\n",
       "      <td>-</td>\n",
       "      <td>-</td>\n",
       "      <td>-</td>\n",
       "      <td>-</td>\n",
       "      <td>-</td>\n",
       "      <td>-</td>\n",
       "      <td>...</td>\n",
       "      <td>-</td>\n",
       "      <td>100</td>\n",
       "      <td>-</td>\n",
       "      <td>100</td>\n",
       "      <td>9.5</td>\n",
       "      <td>-</td>\n",
       "      <td>-</td>\n",
       "      <td>31</td>\n",
       "      <td>12.8</td>\n",
       "      <td>25.6</td>\n",
       "    </tr>\n",
       "    <tr>\n",
       "      <th>4</th>\n",
       "      <td>Angola</td>\n",
       "      <td>16261</td>\n",
       "      <td>16605</td>\n",
       "      <td>32866.0</td>\n",
       "      <td>60.7</td>\n",
       "      <td>65.5</td>\n",
       "      <td>63.1</td>\n",
       "      <td>53.6</td>\n",
       "      <td>56.2</td>\n",
       "      <td>54.8</td>\n",
       "      <td>...</td>\n",
       "      <td>27</td>\n",
       "      <td>-</td>\n",
       "      <td>4.61</td>\n",
       "      <td>50</td>\n",
       "      <td>40.3</td>\n",
       "      <td>9.2</td>\n",
       "      <td>0</td>\n",
       "      <td>38.7</td>\n",
       "      <td>2.4</td>\n",
       "      <td>8.2</td>\n",
       "    </tr>\n",
       "  </tbody>\n",
       "</table>\n",
       "<p>5 rows × 65 columns</p>\n",
       "</div>"
      ],
      "text/plain": [
       "       Country Total Population Male Total Population Female  \\\n",
       "0  Afghanistan                 19976                   18952   \n",
       "1      Albania                  1465                    1413   \n",
       "2      Algeria                 22154                   21697   \n",
       "3      Andorra                     -                       -   \n",
       "4       Angola                 16261                   16605   \n",
       "\n",
       "   Total Population Both Life Expectancy Male Life Expectancy Female  \\\n",
       "0                38928.0                 63.3                   63.2   \n",
       "1                 2878.0                 76.3                   79.9   \n",
       "2                43851.0                 76.2                   78.1   \n",
       "3                   77.0                    -                      -   \n",
       "4                32866.0                 60.7                   65.5   \n",
       "\n",
       "  Life Expectancy Both  Healthy Life Expectancy Male  \\\n",
       "0                  63.2                         54.7   \n",
       "1                    78                           68   \n",
       "2                  77.1                         66.7   \n",
       "3                     -                            -   \n",
       "4                  63.1                         53.6   \n",
       "\n",
       "  Healthy Life Expectancy Female Healthy Life Expectancy Both   ...  \\\n",
       "0                           53.2                          53.9  ...   \n",
       "1                           70.3                          69.1  ...   \n",
       "2                           66.1                          66.4  ...   \n",
       "3                              -                             -  ...   \n",
       "4                           56.2                          54.8  ...   \n",
       "\n",
       "  Hand Washing Water Treated  Dev Expend Mil Clean Fuel Tech Pollution Urban  \\\n",
       "0           38             -          140.29              33            63.6   \n",
       "1            -            13           48.53              81            19.3   \n",
       "2           85            76            3.01             100            34.1   \n",
       "3            -           100               -             100             9.5   \n",
       "4           27             -            4.61              50            40.3   \n",
       "\n",
       "   Homicide Mortality Polio Cases  Hypertension 30-79  Obesity 5-19  \\\n",
       "0                 8.5           1                40.2           3.1   \n",
       "1                 3.6           0                41.8           7.6   \n",
       "2                 1.7           0                36.2          13.5   \n",
       "3                   -           -                  31          12.8   \n",
       "4                 9.2           0                38.7           2.4   \n",
       "\n",
       "  Obesity Adults  \n",
       "0            5.5  \n",
       "1           21.7  \n",
       "2           27.4  \n",
       "3           25.6  \n",
       "4            8.2  \n",
       "\n",
       "[5 rows x 65 columns]"
      ]
     },
     "execution_count": 2,
     "metadata": {},
     "output_type": "execute_result"
    }
   ],
   "source": [
    "# display first 10 rows\n",
    "df.head()"
   ]
  },
  {
   "cell_type": "code",
   "execution_count": 3,
   "metadata": {},
   "outputs": [
    {
     "data": {
      "text/plain": [
       "(204, 65)"
      ]
     },
     "execution_count": 3,
     "metadata": {},
     "output_type": "execute_result"
    }
   ],
   "source": [
    "#look at number of rows and columns\n",
    "df.shape"
   ]
  },
  {
   "cell_type": "code",
   "execution_count": 4,
   "metadata": {},
   "outputs": [
    {
     "data": {
      "text/plain": [
       "Country                    202\n",
       "Total Population Male      202\n",
       "Total Population Female    201\n",
       "Total Population Both      201\n",
       "Life Expectancy Male       202\n",
       "                          ... \n",
       "Homicide Mortality         202\n",
       "Polio Cases                202\n",
       "Hypertension 30-79         202\n",
       "Obesity 5-19               202\n",
       "Obesity Adults             202\n",
       "Length: 65, dtype: int64"
      ]
     },
     "execution_count": 4,
     "metadata": {},
     "output_type": "execute_result"
    }
   ],
   "source": [
    "#count number of rows\n",
    "df.count()"
   ]
  },
  {
   "cell_type": "code",
   "execution_count": 5,
   "metadata": {},
   "outputs": [
    {
     "name": "stdout",
     "output_type": "stream",
     "text": [
      "<class 'pandas.core.frame.DataFrame'>\n",
      "RangeIndex: 204 entries, 0 to 203\n",
      "Data columns (total 65 columns):\n",
      " #   Column                           Non-Null Count  Dtype  \n",
      "---  ------                           --------------  -----  \n",
      " 0   Country                          202 non-null    object \n",
      " 1   Total Population Male            202 non-null    object \n",
      " 2   Total Population Female          201 non-null    object \n",
      " 3   Total Population Both            201 non-null    float64\n",
      " 4   Life Expectancy Male             202 non-null    object \n",
      " 5   Life Expectancy Female           201 non-null    object \n",
      " 6   Life Expectancy Both             201 non-null    object \n",
      " 7   Healthy Life Expectancy Male     202 non-null    object \n",
      " 8   Healthy Life Expectancy Female   201 non-null    object \n",
      " 9   Healthy Life Expectancy Both     201 non-null    object \n",
      " 10  Maternal Mortality Ratio         202 non-null    object \n",
      " 11  Prop Births Skilled              201 non-null    object \n",
      " 12  Mortality Rate < 5               202 non-null    float64\n",
      " 13  Neonatal Mortality Rate          202 non-null    object \n",
      " 14  New HIV                          202 non-null    object \n",
      " 15  TB Incidence                     202 non-null    float64\n",
      " 16  Malaria Incidence                201 non-null    object \n",
      " 17  HepB age < 5                     202 non-null    float64\n",
      " 18  NTD Reported                     202 non-null    float64\n",
      " 19  Prob Death CVD+                  202 non-null    object \n",
      " 20  Suicide Rate                     202 non-null    object \n",
      " 21  Total Alcohol > 14               202 non-null    object \n",
      " 22  Road Mortality                   202 non-null    object \n",
      " 23  Family Planning                  201 non-null    object \n",
      " 24  Ad Birth Rate 15-19              202 non-null    object \n",
      " 25  Ad Birth Rate 10-14              201 non-null    object \n",
      " 26  Univ Health Care                 202 non-null    float64\n",
      " 27  Health care 10 > expend          202 non-null    object \n",
      " 28  Health care 25 > expend          202 non-null    object \n",
      " 29  Air Pollut Mortality             202 non-null    object \n",
      " 30  WASH Mortality                   202 non-null    object \n",
      " 31  Poison Mortality                 202 non-null    object \n",
      " 32  Tobacco Use < 15                 201 non-null    object \n",
      " 33  DPT3 Immuno                      202 non-null    object \n",
      " 34  MCV2 immuno                      202 non-null    object \n",
      " 35  PCV3 immuno                      202 non-null    object \n",
      " 36  HPV immuno                       202 non-null    object \n",
      " 37  Research Health                  202 non-null    object \n",
      " 38  Medicine Affordable              201 non-null    object \n",
      " 39  Doctor Density                   202 non-null    object \n",
      " 40  Density Nursing                  202 non-null    float64\n",
      " 41  Density Dentist                  202 non-null    object \n",
      " 42  Density Pharmacist               202 non-null    object \n",
      " 43  Health Reg Score                 202 non-null    object \n",
      " 44  MRSA                             202 non-null    object \n",
      " 45  Ecoli                            202 non-null    object \n",
      " 46  Gov Expend Health                202 non-null    object \n",
      " 47  Stunting < 5                     201 non-null    object \n",
      " 48  Wasting < 5                      201 non-null    object \n",
      " 49  Overweight < 5                   201 non-null    object \n",
      " 50  Anaemia Women 15-49              202 non-null    object \n",
      " 51  Violence Girls Partner 15-49     202 non-null    object \n",
      " 52  Violence Girls Partner Lifetime  202 non-null    object \n",
      " 53  Water Safe                       202 non-null    object \n",
      " 54  Sanitation Service               202 non-null    object \n",
      " 55  Hand Washing                     202 non-null    object \n",
      " 56  Water Treated                    202 non-null    object \n",
      " 57  Dev Expend Mil                   202 non-null    object \n",
      " 58  Clean Fuel Tech                  201 non-null    object \n",
      " 59  Pollution Urban                  202 non-null    object \n",
      " 60  Homicide Mortality               202 non-null    object \n",
      " 61  Polio Cases                      202 non-null    object \n",
      " 62  Hypertension 30-79               202 non-null    object \n",
      " 63  Obesity 5-19                     202 non-null    object \n",
      " 64  Obesity Adults                   202 non-null    object \n",
      "dtypes: float64(7), object(58)\n",
      "memory usage: 103.7+ KB\n"
     ]
    }
   ],
   "source": [
    "#get datatype etc info...why most object?\n",
    "df.info()"
   ]
  },
  {
   "cell_type": "code",
   "execution_count": 6,
   "metadata": {
    "scrolled": true
   },
   "outputs": [
    {
     "data": {
      "text/plain": [
       "Country                    2\n",
       "Total Population Male      2\n",
       "Total Population Female    3\n",
       "Total Population Both      3\n",
       "Life Expectancy Male       2\n",
       "                          ..\n",
       "Homicide Mortality         2\n",
       "Polio Cases                2\n",
       "Hypertension 30-79         2\n",
       "Obesity 5-19               2\n",
       "Obesity Adults             2\n",
       "Length: 65, dtype: int64"
      ]
     },
     "execution_count": 6,
     "metadata": {},
     "output_type": "execute_result"
    }
   ],
   "source": [
    "#check null values... need to see what they are to change them to NaN then remove or change value to median\n",
    "df.isnull().sum()"
   ]
  },
  {
   "cell_type": "code",
   "execution_count": 7,
   "metadata": {
    "scrolled": true
   },
   "outputs": [
    {
     "data": {
      "text/plain": [
       "array([19976, 1465, 22154, '-', 16261, 47, 22049, 1394, 12699, 4440, 5065,\n",
       "       191, 1100, 83259, 139, 4399, 5744, 198, 6054, 410, 5858, 1607,\n",
       "       1139, 104436, 227, 3374, 10445, 5900, 279, 8162, 13277, 18732,\n",
       "       2394, 8200, 9426, 741999, 24985, 439, 2757, 2545, 13300, 1979,\n",
       "       5623, 604, 5273, 12608, 44710, 2879, 519, 5418, 8824, 51703, 3036,\n",
       "       780, 1778, 628, 570, 57517, 454, 2732, 31589, 1133, 1199, 1901,\n",
       "       41416, 15750, 5116, 57, 8827, 6353, 963, 396, 5626, 4949, 4598,\n",
       "       171, 717101, 137718, 42408, 20358, 2451, 4308, 29438, 1470, 61753,\n",
       "       5166, 9113, 26719, 59, 2614, 3227, 3652, 869, 3436, 1057, 2543,\n",
       "       3469, 1260, 317, 13815, 9434, 16631, 343, 10145, 221, 2335, 627,\n",
       "       63071, 58, 1615, 311, 18317, 15188, 26220, 1232, 13348, 8537, 2370,\n",
       "       3265, 12170, 104470, 1042, 2740, 3370, 113672, 2160, 4568, 3624,\n",
       "       16379, 55029, 18338, 4824, 2165, 25666, 1932, 9354, 67640, 6367,\n",
       "       90, 56, 103, 110, 20131, 8171, 4280, 50, 3981, 3062, 2658, 1035,\n",
       "       349, 7924, 29216, 5603, 22978, 10267, 21907, 295, 5059, 4294, 8760,\n",
       "       4806, 33966, 666, 4119, 53, 691, 5861, 41636, 2969, 22547, 20263,\n",
       "       6836, 33542, 29851, 163786, 1678, 16697, 156, 13985, 48598, 15025,\n",
       "       9103, 7092, nan, 2020, 559296, 501975, 1035908, 452591, 374719,\n",
       "       987323, 3911812], dtype=object)"
      ]
     },
     "execution_count": 7,
     "metadata": {},
     "output_type": "execute_result"
    }
   ],
   "source": [
    "#identify non-standard values....they are \"-\"\n",
    "df[\"Total Population Male\"].unique()"
   ]
  },
  {
   "cell_type": "code",
   "execution_count": 8,
   "metadata": {
    "scrolled": true
   },
   "outputs": [
    {
     "data": {
      "text/html": [
       "<div>\n",
       "<style scoped>\n",
       "    .dataframe tbody tr th:only-of-type {\n",
       "        vertical-align: middle;\n",
       "    }\n",
       "\n",
       "    .dataframe tbody tr th {\n",
       "        vertical-align: top;\n",
       "    }\n",
       "\n",
       "    .dataframe thead th {\n",
       "        text-align: right;\n",
       "    }\n",
       "</style>\n",
       "<table border=\"1\" class=\"dataframe\">\n",
       "  <thead>\n",
       "    <tr style=\"text-align: right;\">\n",
       "      <th></th>\n",
       "      <th>Total Population Both</th>\n",
       "      <th>Mortality Rate &lt; 5</th>\n",
       "      <th>TB Incidence</th>\n",
       "      <th>HepB age &lt; 5</th>\n",
       "      <th>NTD Reported</th>\n",
       "      <th>Univ Health Care</th>\n",
       "      <th>Density Nursing</th>\n",
       "    </tr>\n",
       "  </thead>\n",
       "  <tbody>\n",
       "    <tr>\n",
       "      <th>count</th>\n",
       "      <td>2.010000e+02</td>\n",
       "      <td>202.000000</td>\n",
       "      <td>202.000000</td>\n",
       "      <td>202.000000</td>\n",
       "      <td>2.020000e+02</td>\n",
       "      <td>202.000000</td>\n",
       "      <td>202.000000</td>\n",
       "    </tr>\n",
       "    <tr>\n",
       "      <th>mean</th>\n",
       "      <td>1.157934e+05</td>\n",
       "      <td>36.688119</td>\n",
       "      <td>116.237624</td>\n",
       "      <td>10.862079</td>\n",
       "      <td>2.574691e+07</td>\n",
       "      <td>74.183168</td>\n",
       "      <td>57.635149</td>\n",
       "    </tr>\n",
       "    <tr>\n",
       "      <th>std</th>\n",
       "      <td>6.065729e+05</td>\n",
       "      <td>142.801559</td>\n",
       "      <td>192.541222</td>\n",
       "      <td>142.074780</td>\n",
       "      <td>1.531648e+08</td>\n",
       "      <td>138.359511</td>\n",
       "      <td>145.973875</td>\n",
       "    </tr>\n",
       "    <tr>\n",
       "      <th>min</th>\n",
       "      <td>2.000000e+00</td>\n",
       "      <td>2.000000</td>\n",
       "      <td>0.000000</td>\n",
       "      <td>0.000000</td>\n",
       "      <td>0.000000e+00</td>\n",
       "      <td>27.000000</td>\n",
       "      <td>1.100000</td>\n",
       "    </tr>\n",
       "    <tr>\n",
       "      <th>25%</th>\n",
       "      <td>2.083000e+03</td>\n",
       "      <td>6.000000</td>\n",
       "      <td>11.250000</td>\n",
       "      <td>0.120000</td>\n",
       "      <td>1.625000e+01</td>\n",
       "      <td>53.000000</td>\n",
       "      <td>14.650000</td>\n",
       "    </tr>\n",
       "    <tr>\n",
       "      <th>50%</th>\n",
       "      <td>9.538000e+03</td>\n",
       "      <td>16.000000</td>\n",
       "      <td>47.000000</td>\n",
       "      <td>0.270000</td>\n",
       "      <td>4.263750e+04</td>\n",
       "      <td>68.000000</td>\n",
       "      <td>35.750000</td>\n",
       "    </tr>\n",
       "    <tr>\n",
       "      <th>75%</th>\n",
       "      <td>3.286600e+04</td>\n",
       "      <td>42.000000</td>\n",
       "      <td>155.250000</td>\n",
       "      <td>0.925000</td>\n",
       "      <td>4.909612e+06</td>\n",
       "      <td>77.000000</td>\n",
       "      <td>65.125000</td>\n",
       "    </tr>\n",
       "    <tr>\n",
       "      <th>max</th>\n",
       "      <td>7.758157e+06</td>\n",
       "      <td>2020.000000</td>\n",
       "      <td>2020.000000</td>\n",
       "      <td>2020.000000</td>\n",
       "      <td>1.733624e+09</td>\n",
       "      <td>2019.000000</td>\n",
       "      <td>2020.000000</td>\n",
       "    </tr>\n",
       "  </tbody>\n",
       "</table>\n",
       "</div>"
      ],
      "text/plain": [
       "       Total Population Both  Mortality Rate < 5  TB Incidence   HepB age < 5  \\\n",
       "count           2.010000e+02          202.000000     202.000000    202.000000   \n",
       "mean            1.157934e+05           36.688119     116.237624     10.862079   \n",
       "std             6.065729e+05          142.801559     192.541222    142.074780   \n",
       "min             2.000000e+00            2.000000       0.000000      0.000000   \n",
       "25%             2.083000e+03            6.000000      11.250000      0.120000   \n",
       "50%             9.538000e+03           16.000000      47.000000      0.270000   \n",
       "75%             3.286600e+04           42.000000     155.250000      0.925000   \n",
       "max             7.758157e+06         2020.000000    2020.000000   2020.000000   \n",
       "\n",
       "       NTD Reported  Univ Health Care  Density Nursing  \n",
       "count  2.020000e+02        202.000000       202.000000  \n",
       "mean   2.574691e+07         74.183168        57.635149  \n",
       "std    1.531648e+08        138.359511       145.973875  \n",
       "min    0.000000e+00         27.000000         1.100000  \n",
       "25%    1.625000e+01         53.000000        14.650000  \n",
       "50%    4.263750e+04         68.000000        35.750000  \n",
       "75%    4.909612e+06         77.000000        65.125000  \n",
       "max    1.733624e+09       2019.000000      2020.000000  "
      ]
     },
     "execution_count": 8,
     "metadata": {},
     "output_type": "execute_result"
    }
   ],
   "source": [
    "#get statistical info\n",
    "df.describe()"
   ]
  },
  {
   "cell_type": "code",
   "execution_count": 9,
   "metadata": {},
   "outputs": [
    {
     "data": {
      "text/plain": [
       "Index(['Country', 'Total Population Male', 'Total Population Female',\n",
       "       'Total Population Both', 'Life Expectancy Male',\n",
       "       'Life Expectancy Female', 'Life Expectancy Both ',\n",
       "       'Healthy Life Expectancy Male', 'Healthy Life Expectancy Female',\n",
       "       'Healthy Life Expectancy Both ', 'Maternal Mortality Ratio',\n",
       "       'Prop Births Skilled', 'Mortality Rate < 5', 'Neonatal Mortality Rate',\n",
       "       'New HIV', 'TB Incidence ', 'Malaria Incidence', 'HepB age < 5',\n",
       "       'NTD Reported', 'Prob Death CVD+ ', 'Suicide Rate',\n",
       "       'Total Alcohol > 14', 'Road Mortality', 'Family Planning',\n",
       "       'Ad Birth Rate 15-19', 'Ad Birth Rate 10-14', 'Univ Health Care',\n",
       "       'Health care 10 > expend', 'Health care 25 > expend',\n",
       "       'Air Pollut Mortality', 'WASH Mortality', 'Poison Mortality',\n",
       "       'Tobacco Use < 15', 'DPT3 Immuno ', 'MCV2 immuno', 'PCV3 immuno',\n",
       "       'HPV immuno', 'Research Health ', 'Medicine Affordable ',\n",
       "       'Doctor Density', 'Density Nursing', 'Density Dentist',\n",
       "       'Density Pharmacist', 'Health Reg Score', 'MRSA', 'Ecoli',\n",
       "       'Gov Expend Health', 'Stunting < 5', 'Wasting < 5', 'Overweight < 5',\n",
       "       'Anaemia Women 15-49', 'Violence Girls Partner 15-49',\n",
       "       'Violence Girls Partner Lifetime', 'Water Safe', 'Sanitation Service',\n",
       "       'Hand Washing', 'Water Treated', 'Dev Expend Mil', 'Clean Fuel Tech',\n",
       "       'Pollution Urban', 'Homicide Mortality', 'Polio Cases',\n",
       "       'Hypertension 30-79', 'Obesity 5-19', 'Obesity Adults'],\n",
       "      dtype='object')"
      ]
     },
     "execution_count": 9,
     "metadata": {},
     "output_type": "execute_result"
    }
   ],
   "source": [
    "df.columns"
   ]
  },
  {
   "cell_type": "markdown",
   "metadata": {
    "azdata_cell_guid": "d45060f3-97bc-484a-9ef4-66145bbe9427"
   },
   "source": [
    "## Visualize\n",
    "\n",
    "Create any visualizations for your EDA here. Make note in the form of code comments of what your thought process is for your visualizations."
   ]
  },
  {
   "cell_type": "code",
   "execution_count": 11,
   "metadata": {
    "azdata_cell_guid": "f4565b03-759a-47a8-b58f-01b32a0b4b67"
   },
   "outputs": [
    {
     "ename": "TypeError",
     "evalue": "Horizontal orientation requires numeric `x` variable.",
     "output_type": "error",
     "traceback": [
      "\u001b[0;31m---------------------------------------------------------------------------\u001b[0m",
      "\u001b[0;31mTypeError\u001b[0m                                 Traceback (most recent call last)",
      "Input \u001b[0;32mIn [11]\u001b[0m, in \u001b[0;36m<cell line: 2>\u001b[0;34m()\u001b[0m\n\u001b[1;32m      1\u001b[0m \u001b[38;5;66;03m#boxplot to show outliers\u001b[39;00m\n\u001b[0;32m----> 2\u001b[0m \u001b[43msns\u001b[49m\u001b[38;5;241;43m.\u001b[39;49m\u001b[43mboxplot\u001b[49m\u001b[43m(\u001b[49m\u001b[43mx\u001b[49m\u001b[38;5;241;43m=\u001b[39;49m\u001b[43mdf\u001b[49m\u001b[43m[\u001b[49m\u001b[38;5;124;43m\"\u001b[39;49m\u001b[38;5;124;43mObesity Adults\u001b[39;49m\u001b[38;5;124;43m\"\u001b[39;49m\u001b[43m]\u001b[49m\u001b[43m)\u001b[49m\n\u001b[1;32m      3\u001b[0m plt\u001b[38;5;241m.\u001b[39mshow()\n",
      "File \u001b[0;32m~/opt/anaconda3/lib/python3.9/site-packages/seaborn/_decorators.py:46\u001b[0m, in \u001b[0;36m_deprecate_positional_args.<locals>.inner_f\u001b[0;34m(*args, **kwargs)\u001b[0m\n\u001b[1;32m     36\u001b[0m     warnings\u001b[38;5;241m.\u001b[39mwarn(\n\u001b[1;32m     37\u001b[0m         \u001b[38;5;124m\"\u001b[39m\u001b[38;5;124mPass the following variable\u001b[39m\u001b[38;5;132;01m{}\u001b[39;00m\u001b[38;5;124m as \u001b[39m\u001b[38;5;132;01m{}\u001b[39;00m\u001b[38;5;124mkeyword arg\u001b[39m\u001b[38;5;132;01m{}\u001b[39;00m\u001b[38;5;124m: \u001b[39m\u001b[38;5;132;01m{}\u001b[39;00m\u001b[38;5;124m. \u001b[39m\u001b[38;5;124m\"\u001b[39m\n\u001b[1;32m     38\u001b[0m         \u001b[38;5;124m\"\u001b[39m\u001b[38;5;124mFrom version 0.12, the only valid positional argument \u001b[39m\u001b[38;5;124m\"\u001b[39m\n\u001b[0;32m   (...)\u001b[0m\n\u001b[1;32m     43\u001b[0m         \u001b[38;5;167;01mFutureWarning\u001b[39;00m\n\u001b[1;32m     44\u001b[0m     )\n\u001b[1;32m     45\u001b[0m kwargs\u001b[38;5;241m.\u001b[39mupdate({k: arg \u001b[38;5;28;01mfor\u001b[39;00m k, arg \u001b[38;5;129;01min\u001b[39;00m \u001b[38;5;28mzip\u001b[39m(sig\u001b[38;5;241m.\u001b[39mparameters, args)})\n\u001b[0;32m---> 46\u001b[0m \u001b[38;5;28;01mreturn\u001b[39;00m \u001b[43mf\u001b[49m\u001b[43m(\u001b[49m\u001b[38;5;241;43m*\u001b[39;49m\u001b[38;5;241;43m*\u001b[39;49m\u001b[43mkwargs\u001b[49m\u001b[43m)\u001b[49m\n",
      "File \u001b[0;32m~/opt/anaconda3/lib/python3.9/site-packages/seaborn/categorical.py:2243\u001b[0m, in \u001b[0;36mboxplot\u001b[0;34m(x, y, hue, data, order, hue_order, orient, color, palette, saturation, width, dodge, fliersize, linewidth, whis, ax, **kwargs)\u001b[0m\n\u001b[1;32m   2231\u001b[0m \u001b[38;5;129m@_deprecate_positional_args\u001b[39m\n\u001b[1;32m   2232\u001b[0m \u001b[38;5;28;01mdef\u001b[39;00m \u001b[38;5;21mboxplot\u001b[39m(\n\u001b[1;32m   2233\u001b[0m     \u001b[38;5;241m*\u001b[39m,\n\u001b[0;32m   (...)\u001b[0m\n\u001b[1;32m   2240\u001b[0m     \u001b[38;5;241m*\u001b[39m\u001b[38;5;241m*\u001b[39mkwargs\n\u001b[1;32m   2241\u001b[0m ):\n\u001b[0;32m-> 2243\u001b[0m     plotter \u001b[38;5;241m=\u001b[39m \u001b[43m_BoxPlotter\u001b[49m\u001b[43m(\u001b[49m\u001b[43mx\u001b[49m\u001b[43m,\u001b[49m\u001b[43m \u001b[49m\u001b[43my\u001b[49m\u001b[43m,\u001b[49m\u001b[43m \u001b[49m\u001b[43mhue\u001b[49m\u001b[43m,\u001b[49m\u001b[43m \u001b[49m\u001b[43mdata\u001b[49m\u001b[43m,\u001b[49m\u001b[43m \u001b[49m\u001b[43morder\u001b[49m\u001b[43m,\u001b[49m\u001b[43m \u001b[49m\u001b[43mhue_order\u001b[49m\u001b[43m,\u001b[49m\n\u001b[1;32m   2244\u001b[0m \u001b[43m                          \u001b[49m\u001b[43morient\u001b[49m\u001b[43m,\u001b[49m\u001b[43m \u001b[49m\u001b[43mcolor\u001b[49m\u001b[43m,\u001b[49m\u001b[43m \u001b[49m\u001b[43mpalette\u001b[49m\u001b[43m,\u001b[49m\u001b[43m \u001b[49m\u001b[43msaturation\u001b[49m\u001b[43m,\u001b[49m\n\u001b[1;32m   2245\u001b[0m \u001b[43m                          \u001b[49m\u001b[43mwidth\u001b[49m\u001b[43m,\u001b[49m\u001b[43m \u001b[49m\u001b[43mdodge\u001b[49m\u001b[43m,\u001b[49m\u001b[43m \u001b[49m\u001b[43mfliersize\u001b[49m\u001b[43m,\u001b[49m\u001b[43m \u001b[49m\u001b[43mlinewidth\u001b[49m\u001b[43m)\u001b[49m\n\u001b[1;32m   2247\u001b[0m     \u001b[38;5;28;01mif\u001b[39;00m ax \u001b[38;5;129;01mis\u001b[39;00m \u001b[38;5;28;01mNone\u001b[39;00m:\n\u001b[1;32m   2248\u001b[0m         ax \u001b[38;5;241m=\u001b[39m plt\u001b[38;5;241m.\u001b[39mgca()\n",
      "File \u001b[0;32m~/opt/anaconda3/lib/python3.9/site-packages/seaborn/categorical.py:406\u001b[0m, in \u001b[0;36m_BoxPlotter.__init__\u001b[0;34m(self, x, y, hue, data, order, hue_order, orient, color, palette, saturation, width, dodge, fliersize, linewidth)\u001b[0m\n\u001b[1;32m    402\u001b[0m \u001b[38;5;28;01mdef\u001b[39;00m \u001b[38;5;21m__init__\u001b[39m(\u001b[38;5;28mself\u001b[39m, x, y, hue, data, order, hue_order,\n\u001b[1;32m    403\u001b[0m              orient, color, palette, saturation,\n\u001b[1;32m    404\u001b[0m              width, dodge, fliersize, linewidth):\n\u001b[0;32m--> 406\u001b[0m     \u001b[38;5;28;43mself\u001b[39;49m\u001b[38;5;241;43m.\u001b[39;49m\u001b[43mestablish_variables\u001b[49m\u001b[43m(\u001b[49m\u001b[43mx\u001b[49m\u001b[43m,\u001b[49m\u001b[43m \u001b[49m\u001b[43my\u001b[49m\u001b[43m,\u001b[49m\u001b[43m \u001b[49m\u001b[43mhue\u001b[49m\u001b[43m,\u001b[49m\u001b[43m \u001b[49m\u001b[43mdata\u001b[49m\u001b[43m,\u001b[49m\u001b[43m \u001b[49m\u001b[43morient\u001b[49m\u001b[43m,\u001b[49m\u001b[43m \u001b[49m\u001b[43morder\u001b[49m\u001b[43m,\u001b[49m\u001b[43m \u001b[49m\u001b[43mhue_order\u001b[49m\u001b[43m)\u001b[49m\n\u001b[1;32m    407\u001b[0m     \u001b[38;5;28mself\u001b[39m\u001b[38;5;241m.\u001b[39mestablish_colors(color, palette, saturation)\n\u001b[1;32m    409\u001b[0m     \u001b[38;5;28mself\u001b[39m\u001b[38;5;241m.\u001b[39mdodge \u001b[38;5;241m=\u001b[39m dodge\n",
      "File \u001b[0;32m~/opt/anaconda3/lib/python3.9/site-packages/seaborn/categorical.py:156\u001b[0m, in \u001b[0;36m_CategoricalPlotter.establish_variables\u001b[0;34m(self, x, y, hue, data, orient, order, hue_order, units)\u001b[0m\n\u001b[1;32m    153\u001b[0m         \u001b[38;5;28;01mraise\u001b[39;00m \u001b[38;5;167;01mValueError\u001b[39;00m(err)\n\u001b[1;32m    155\u001b[0m \u001b[38;5;66;03m# Figure out the plotting orientation\u001b[39;00m\n\u001b[0;32m--> 156\u001b[0m orient \u001b[38;5;241m=\u001b[39m \u001b[43minfer_orient\u001b[49m\u001b[43m(\u001b[49m\n\u001b[1;32m    157\u001b[0m \u001b[43m    \u001b[49m\u001b[43mx\u001b[49m\u001b[43m,\u001b[49m\u001b[43m \u001b[49m\u001b[43my\u001b[49m\u001b[43m,\u001b[49m\u001b[43m \u001b[49m\u001b[43morient\u001b[49m\u001b[43m,\u001b[49m\u001b[43m \u001b[49m\u001b[43mrequire_numeric\u001b[49m\u001b[38;5;241;43m=\u001b[39;49m\u001b[38;5;28;43mself\u001b[39;49m\u001b[38;5;241;43m.\u001b[39;49m\u001b[43mrequire_numeric\u001b[49m\n\u001b[1;32m    158\u001b[0m \u001b[43m\u001b[49m\u001b[43m)\u001b[49m\n\u001b[1;32m    160\u001b[0m \u001b[38;5;66;03m# Option 2a:\u001b[39;00m\n\u001b[1;32m    161\u001b[0m \u001b[38;5;66;03m# We are plotting a single set of data\u001b[39;00m\n\u001b[1;32m    162\u001b[0m \u001b[38;5;66;03m# ------------------------------------\u001b[39;00m\n\u001b[1;32m    163\u001b[0m \u001b[38;5;28;01mif\u001b[39;00m x \u001b[38;5;129;01mis\u001b[39;00m \u001b[38;5;28;01mNone\u001b[39;00m \u001b[38;5;129;01mor\u001b[39;00m y \u001b[38;5;129;01mis\u001b[39;00m \u001b[38;5;28;01mNone\u001b[39;00m:\n\u001b[1;32m    164\u001b[0m \n\u001b[1;32m    165\u001b[0m     \u001b[38;5;66;03m# Determine where the data are\u001b[39;00m\n",
      "File \u001b[0;32m~/opt/anaconda3/lib/python3.9/site-packages/seaborn/_core.py:1328\u001b[0m, in \u001b[0;36minfer_orient\u001b[0;34m(x, y, orient, require_numeric)\u001b[0m\n\u001b[1;32m   1326\u001b[0m         warnings\u001b[38;5;241m.\u001b[39mwarn(single_var_warning\u001b[38;5;241m.\u001b[39mformat(\u001b[38;5;124m\"\u001b[39m\u001b[38;5;124mVertical\u001b[39m\u001b[38;5;124m\"\u001b[39m, \u001b[38;5;124m\"\u001b[39m\u001b[38;5;124mx\u001b[39m\u001b[38;5;124m\"\u001b[39m))\n\u001b[1;32m   1327\u001b[0m     \u001b[38;5;28;01mif\u001b[39;00m require_numeric \u001b[38;5;129;01mand\u001b[39;00m x_type \u001b[38;5;241m!=\u001b[39m \u001b[38;5;124m\"\u001b[39m\u001b[38;5;124mnumeric\u001b[39m\u001b[38;5;124m\"\u001b[39m:\n\u001b[0;32m-> 1328\u001b[0m         \u001b[38;5;28;01mraise\u001b[39;00m \u001b[38;5;167;01mTypeError\u001b[39;00m(nonnumeric_dv_error\u001b[38;5;241m.\u001b[39mformat(\u001b[38;5;124m\"\u001b[39m\u001b[38;5;124mHorizontal\u001b[39m\u001b[38;5;124m\"\u001b[39m, \u001b[38;5;124m\"\u001b[39m\u001b[38;5;124mx\u001b[39m\u001b[38;5;124m\"\u001b[39m))\n\u001b[1;32m   1329\u001b[0m     \u001b[38;5;28;01mreturn\u001b[39;00m \u001b[38;5;124m\"\u001b[39m\u001b[38;5;124mh\u001b[39m\u001b[38;5;124m\"\u001b[39m\n\u001b[1;32m   1331\u001b[0m \u001b[38;5;28;01melif\u001b[39;00m \u001b[38;5;28mstr\u001b[39m(orient)\u001b[38;5;241m.\u001b[39mstartswith(\u001b[38;5;124m\"\u001b[39m\u001b[38;5;124mv\u001b[39m\u001b[38;5;124m\"\u001b[39m):\n",
      "\u001b[0;31mTypeError\u001b[0m: Horizontal orientation requires numeric `x` variable."
     ]
    }
   ],
   "source": [
    "#boxplot to show outliers\n",
    "sns.boxplot(x=df[\"Obesity Adults\"])\n",
    "plt.show()"
   ]
  },
  {
   "cell_type": "code",
   "execution_count": 12,
   "metadata": {
    "azdata_cell_guid": "cd64bab1-db4c-4295-820d-c6464b653a3e",
    "scrolled": true
   },
   "outputs": [
    {
     "data": {
      "text/plain": [
       "Country                     object\n",
       "Total Population Male       object\n",
       "Total Population Female     object\n",
       "Total Population Both      float64\n",
       "Life Expectancy Male        object\n",
       "                            ...   \n",
       "Homicide Mortality          object\n",
       "Polio Cases                 object\n",
       "Hypertension 30-79          object\n",
       "Obesity 5-19                object\n",
       "Obesity Adults              object\n",
       "Length: 65, dtype: object"
      ]
     },
     "execution_count": 12,
     "metadata": {},
     "output_type": "execute_result"
    }
   ],
   "source": [
    "#Check data types...object?\n",
    "df.dtypes\n"
   ]
  },
  {
   "cell_type": "code",
   "execution_count": 13,
   "metadata": {
    "scrolled": true
   },
   "outputs": [
    {
     "data": {
      "text/plain": [
       "Country                     object\n",
       "Total Population Male      float64\n",
       "Total Population Female    float64\n",
       "Total Population Both      float64\n",
       "Life Expectancy Male       float64\n",
       "                            ...   \n",
       "Homicide Mortality         float64\n",
       "Polio Cases                float64\n",
       "Hypertension 30-79         float64\n",
       "Obesity 5-19               float64\n",
       "Obesity Adults             float64\n",
       "Length: 65, dtype: object"
      ]
     },
     "execution_count": 13,
     "metadata": {},
     "output_type": "execute_result"
    }
   ],
   "source": [
    "#change all objects to floats\n",
    "for col in  df.columns[1:]:\n",
    "    df[col] = pd.to_numeric(df[col], errors='coerce')\n",
    "df.dtypes"
   ]
  },
  {
   "cell_type": "code",
   "execution_count": 24,
   "metadata": {},
   "outputs": [
    {
     "data": {
      "image/png": "[encoded data removed]",
      "text/plain": [
       "<Figure size 432x288 with 1 Axes>"
      ]
     },
     "metadata": {
      "needs_background": "light"
     },
     "output_type": "display_data"
    }
   ],
   "source": [
    "#boxplot to show outliers...wow, need to look into those countries\n",
    "fig, ax = plt.subplots()\n",
    "sns.boxplot(x=df[\"Homicide Mortality\"])\n",
    "ax.set_xlim(0, 100)\n",
    "plt.show()"
   ]
  },
  {
   "cell_type": "code",
   "execution_count": 22,
   "metadata": {
    "scrolled": true
   },
   "outputs": [
    {
     "data": {
      "image/png": "[encoded data removed]",
      "text/plain": [
       "<Figure size 432x288 with 1 Axes>"
      ]
     },
     "metadata": {
      "needs_background": "light"
     },
     "output_type": "display_data"
    }
   ],
   "source": [
    "#boxplot to show outliers... need to check who the outlier is and if it makes sense \n",
    "fig, ax = plt.subplots()\n",
    "sns.boxplot(x=df[\"Life Expectancy Male\"])\n",
    "ax.set_xlim(1, 100)\n",
    "plt.show()"
   ]
  },
  {
   "cell_type": "code",
   "execution_count": 16,
   "metadata": {
    "scrolled": true
   },
   "outputs": [
    {
     "data": {
      "text/html": [
       "<div>\n",
       "<style scoped>\n",
       "    .dataframe tbody tr th:only-of-type {\n",
       "        vertical-align: middle;\n",
       "    }\n",
       "\n",
       "    .dataframe tbody tr th {\n",
       "        vertical-align: top;\n",
       "    }\n",
       "\n",
       "    .dataframe thead th {\n",
       "        text-align: right;\n",
       "    }\n",
       "</style>\n",
       "<table border=\"1\" class=\"dataframe\">\n",
       "  <thead>\n",
       "    <tr style=\"text-align: right;\">\n",
       "      <th></th>\n",
       "      <th>Country</th>\n",
       "      <th>Total Population Male</th>\n",
       "      <th>Total Population Female</th>\n",
       "      <th>Total Population Both</th>\n",
       "      <th>Life Expectancy Male</th>\n",
       "      <th>Life Expectancy Female</th>\n",
       "      <th>Life Expectancy Both</th>\n",
       "      <th>Healthy Life Expectancy Male</th>\n",
       "      <th>Healthy Life Expectancy Female</th>\n",
       "      <th>Healthy Life Expectancy Both</th>\n",
       "      <th>...</th>\n",
       "      <th>Hand Washing</th>\n",
       "      <th>Water Treated</th>\n",
       "      <th>Dev Expend Mil</th>\n",
       "      <th>Clean Fuel Tech</th>\n",
       "      <th>Pollution Urban</th>\n",
       "      <th>Homicide Mortality</th>\n",
       "      <th>Polio Cases</th>\n",
       "      <th>Hypertension 30-79</th>\n",
       "      <th>Obesity 5-19</th>\n",
       "      <th>Obesity Adults</th>\n",
       "    </tr>\n",
       "  </thead>\n",
       "  <tbody>\n",
       "    <tr>\n",
       "      <th>0</th>\n",
       "      <td>Afghanistan</td>\n",
       "      <td>19976.0</td>\n",
       "      <td>18952.0</td>\n",
       "      <td>38928.0</td>\n",
       "      <td>63.3</td>\n",
       "      <td>63.2</td>\n",
       "      <td>63.2</td>\n",
       "      <td>54.7</td>\n",
       "      <td>53.2</td>\n",
       "      <td>53.9</td>\n",
       "      <td>...</td>\n",
       "      <td>38.0</td>\n",
       "      <td>NaN</td>\n",
       "      <td>140.29</td>\n",
       "      <td>33.0</td>\n",
       "      <td>63.6</td>\n",
       "      <td>8.5</td>\n",
       "      <td>1.0</td>\n",
       "      <td>40.2</td>\n",
       "      <td>3.1</td>\n",
       "      <td>5.5</td>\n",
       "    </tr>\n",
       "    <tr>\n",
       "      <th>1</th>\n",
       "      <td>Albania</td>\n",
       "      <td>1465.0</td>\n",
       "      <td>1413.0</td>\n",
       "      <td>2878.0</td>\n",
       "      <td>76.3</td>\n",
       "      <td>79.9</td>\n",
       "      <td>78.0</td>\n",
       "      <td>68.0</td>\n",
       "      <td>70.3</td>\n",
       "      <td>69.1</td>\n",
       "      <td>...</td>\n",
       "      <td>NaN</td>\n",
       "      <td>13.0</td>\n",
       "      <td>48.53</td>\n",
       "      <td>81.0</td>\n",
       "      <td>19.3</td>\n",
       "      <td>3.6</td>\n",
       "      <td>0.0</td>\n",
       "      <td>41.8</td>\n",
       "      <td>7.6</td>\n",
       "      <td>21.7</td>\n",
       "    </tr>\n",
       "    <tr>\n",
       "      <th>2</th>\n",
       "      <td>Algeria</td>\n",
       "      <td>22154.0</td>\n",
       "      <td>21697.0</td>\n",
       "      <td>43851.0</td>\n",
       "      <td>76.2</td>\n",
       "      <td>78.1</td>\n",
       "      <td>77.1</td>\n",
       "      <td>66.7</td>\n",
       "      <td>66.1</td>\n",
       "      <td>66.4</td>\n",
       "      <td>...</td>\n",
       "      <td>85.0</td>\n",
       "      <td>76.0</td>\n",
       "      <td>3.01</td>\n",
       "      <td>100.0</td>\n",
       "      <td>34.1</td>\n",
       "      <td>1.7</td>\n",
       "      <td>0.0</td>\n",
       "      <td>36.2</td>\n",
       "      <td>13.5</td>\n",
       "      <td>27.4</td>\n",
       "    </tr>\n",
       "    <tr>\n",
       "      <th>3</th>\n",
       "      <td>Andorra</td>\n",
       "      <td>NaN</td>\n",
       "      <td>NaN</td>\n",
       "      <td>77.0</td>\n",
       "      <td>NaN</td>\n",
       "      <td>NaN</td>\n",
       "      <td>NaN</td>\n",
       "      <td>NaN</td>\n",
       "      <td>NaN</td>\n",
       "      <td>NaN</td>\n",
       "      <td>...</td>\n",
       "      <td>NaN</td>\n",
       "      <td>100.0</td>\n",
       "      <td>NaN</td>\n",
       "      <td>100.0</td>\n",
       "      <td>9.5</td>\n",
       "      <td>NaN</td>\n",
       "      <td>NaN</td>\n",
       "      <td>31.0</td>\n",
       "      <td>12.8</td>\n",
       "      <td>25.6</td>\n",
       "    </tr>\n",
       "    <tr>\n",
       "      <th>4</th>\n",
       "      <td>Angola</td>\n",
       "      <td>16261.0</td>\n",
       "      <td>16605.0</td>\n",
       "      <td>32866.0</td>\n",
       "      <td>60.7</td>\n",
       "      <td>65.5</td>\n",
       "      <td>63.1</td>\n",
       "      <td>53.6</td>\n",
       "      <td>56.2</td>\n",
       "      <td>54.8</td>\n",
       "      <td>...</td>\n",
       "      <td>27.0</td>\n",
       "      <td>NaN</td>\n",
       "      <td>4.61</td>\n",
       "      <td>50.0</td>\n",
       "      <td>40.3</td>\n",
       "      <td>9.2</td>\n",
       "      <td>0.0</td>\n",
       "      <td>38.7</td>\n",
       "      <td>2.4</td>\n",
       "      <td>8.2</td>\n",
       "    </tr>\n",
       "  </tbody>\n",
       "</table>\n",
       "<p>5 rows × 65 columns</p>\n",
       "</div>"
      ],
      "text/plain": [
       "       Country  Total Population Male  Total Population Female  \\\n",
       "0  Afghanistan                19976.0                  18952.0   \n",
       "1      Albania                 1465.0                   1413.0   \n",
       "2      Algeria                22154.0                  21697.0   \n",
       "3      Andorra                    NaN                      NaN   \n",
       "4       Angola                16261.0                  16605.0   \n",
       "\n",
       "   Total Population Both  Life Expectancy Male  Life Expectancy Female  \\\n",
       "0                38928.0                  63.3                    63.2   \n",
       "1                 2878.0                  76.3                    79.9   \n",
       "2                43851.0                  76.2                    78.1   \n",
       "3                   77.0                   NaN                     NaN   \n",
       "4                32866.0                  60.7                    65.5   \n",
       "\n",
       "   Life Expectancy Both   Healthy Life Expectancy Male  \\\n",
       "0                   63.2                          54.7   \n",
       "1                   78.0                          68.0   \n",
       "2                   77.1                          66.7   \n",
       "3                    NaN                           NaN   \n",
       "4                   63.1                          53.6   \n",
       "\n",
       "   Healthy Life Expectancy Female  Healthy Life Expectancy Both   ...  \\\n",
       "0                            53.2                           53.9  ...   \n",
       "1                            70.3                           69.1  ...   \n",
       "2                            66.1                           66.4  ...   \n",
       "3                             NaN                            NaN  ...   \n",
       "4                            56.2                           54.8  ...   \n",
       "\n",
       "   Hand Washing  Water Treated  Dev Expend Mil  Clean Fuel Tech  \\\n",
       "0          38.0            NaN          140.29             33.0   \n",
       "1           NaN           13.0           48.53             81.0   \n",
       "2          85.0           76.0            3.01            100.0   \n",
       "3           NaN          100.0             NaN            100.0   \n",
       "4          27.0            NaN            4.61             50.0   \n",
       "\n",
       "   Pollution Urban  Homicide Mortality  Polio Cases  Hypertension 30-79  \\\n",
       "0             63.6                 8.5          1.0                40.2   \n",
       "1             19.3                 3.6          0.0                41.8   \n",
       "2             34.1                 1.7          0.0                36.2   \n",
       "3              9.5                 NaN          NaN                31.0   \n",
       "4             40.3                 9.2          0.0                38.7   \n",
       "\n",
       "   Obesity 5-19  Obesity Adults  \n",
       "0           3.1             5.5  \n",
       "1           7.6            21.7  \n",
       "2          13.5            27.4  \n",
       "3          12.8            25.6  \n",
       "4           2.4             8.2  \n",
       "\n",
       "[5 rows x 65 columns]"
      ]
     },
     "execution_count": 16,
     "metadata": {},
     "output_type": "execute_result"
    }
   ],
   "source": [
    "#checking to make sure values look correct for visuals\n",
    "df.head()"
   ]
  },
  {
   "cell_type": "code",
   "execution_count": 33,
   "metadata": {},
   "outputs": [
    {
     "data": {
      "image/png": "[encoded data removed]",
      "text/plain": [
       "<Figure size 432x288 with 1 Axes>"
      ]
     },
     "metadata": {
      "needs_background": "light"
     },
     "output_type": "display_data"
    }
   ],
   "source": [
    "#histogram... to show more exact values and density of countries withing those numbers\n",
    "\n",
    "fig, ax = plt.subplots()\n",
    "sns.histplot(data=df, x=\"Homicide Mortality\")\n",
    "ax.set_xlim(-5, 90)\n",
    "plt.show()"
   ]
  },
  {
   "cell_type": "code",
   "execution_count": 38,
   "metadata": {},
   "outputs": [
    {
     "data": {
      "text/plain": [
       "<AxesSubplot:xlabel='Country', ylabel='Life Expectancy Female'>"
      ]
     },
     "execution_count": 38,
     "metadata": {},
     "output_type": "execute_result"
    },
    {
     "data": {
      "image/png": "[encoded data removed]",
      "text/plain": [
       "<Figure size 432x288 with 1 Axes>"
      ]
     },
     "metadata": {
      "needs_background": "light"
     },
     "output_type": "display_data"
    }
   ],
   "source": [
    "#scatterplot... interesting that theres no pattern\n",
    "sns.scatterplot(data=df, x=\"Country\",\n",
    "                    y=\"Life Expectancy Female\")"
   ]
  },
  {
   "cell_type": "code",
   "execution_count": 39,
   "metadata": {},
   "outputs": [
    {
     "data": {
      "text/plain": [
       "<AxesSubplot:xlabel='Country', ylabel='Life Expectancy Male'>"
      ]
     },
     "execution_count": 39,
     "metadata": {},
     "output_type": "execute_result"
    },
    {
     "data": {
      "image/png": "[encoded data removed]",
      "text/plain": [
       "<Figure size 432x288 with 1 Axes>"
      ]
     },
     "metadata": {
      "needs_background": "light"
     },
     "output_type": "display_data"
    }
   ],
   "source": [
    "#need to look at that 2000+ value\n",
    "sns.scatterplot(data=df, x=\"Country\",\n",
    "                    y=\"Life Expectancy Male\")"
   ]
  },
  {
   "cell_type": "code",
   "execution_count": 43,
   "metadata": {},
   "outputs": [
    {
     "data": {
      "text/plain": [
       "(40.0, 90.0)"
      ]
     },
     "execution_count": 43,
     "metadata": {},
     "output_type": "execute_result"
    },
    {
     "data": {
      "image/png": "[encoded data removed]",
      "text/plain": [
       "<Figure size 432x288 with 1 Axes>"
      ]
     },
     "metadata": {
      "needs_background": "light"
     },
     "output_type": "display_data"
    }
   ],
   "source": [
    "fig, ax = plt.subplots()\n",
    "sns.scatterplot(data=df, x=\"Country\",\n",
    "                    y=\"Life Expectancy Male\")\n",
    "ax.set_ylim(40, 90)"
   ]
  },
  {
   "cell_type": "markdown",
   "metadata": {
    "azdata_cell_guid": "d4931c0c-2c09-4ee1-95d4-73dd08c2f0a6"
   },
   "source": [
    "## Summarize Your Results\n",
    "\n",
    "With your EDA complete, answer the following questions.\n",
    "\n",
    "1. Was there anything surprising about your dataset? \n",
    "2. Do you have any concerns about your dataset? \n",
    "3. Is there anything you want to make note of for the next phase of your analysis, which is cleaning data? "
   ]
  },
  {
   "cell_type": "code",
   "execution_count": null,
   "metadata": {},
   "outputs": [],
   "source": [
    "#1. Yes, there was a lot more missing data than I anticipated and everything was in the datatype \"object\" which made things difficult until I changed them to \"float\"."
   ]
  },
  {
   "cell_type": "code",
   "execution_count": null,
   "metadata": {},
   "outputs": [],
   "source": [
    "#2. Yes. I am very concerned that I chose a dataset that will need a lot of cleaning and that might have unexpected errors that I dont know how to fix. "
   ]
  },
  {
   "cell_type": "code",
   "execution_count": null,
   "metadata": {},
   "outputs": [],
   "source": [
    "#3. I will need to remove the NaN values and decide what to do with them. I dont want to delete entire rows which are countries so I will probably have to change the values to a median for the column in order to graph and proceed. "
   ]
  }
 ],
 "metadata": {
  "kernelspec": {
   "display_name": "Python 3 (ipykernel)",
   "language": "python",
   "name": "python3"
  },
  "language_info": {
   "codemirror_mode": {
    "name": "ipython",
    "version": 3
   },
   "file_extension": ".py",
   "mimetype": "text/x-python",
   "name": "python",
   "nbconvert_exporter": "python",
   "pygments_lexer": "ipython3",
   "version": "3.9.12"
  }
 },
 "nbformat": 4,
 "nbformat_minor": 2
}
